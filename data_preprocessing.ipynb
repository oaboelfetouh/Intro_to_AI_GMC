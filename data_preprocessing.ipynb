{
  "nbformat": 4,
  "nbformat_minor": 0,
  "metadata": {
    "colab": {
      "provenance": [],
      "authorship_tag": "ABX9TyOPSddW0lAVLWOewkgSCYm6",
      "include_colab_link": true
    },
    "kernelspec": {
      "name": "python3",
      "display_name": "Python 3"
    },
    "language_info": {
      "name": "python"
    }
  },
  "cells": [
    {
      "cell_type": "markdown",
      "metadata": {
        "id": "view-in-github",
        "colab_type": "text"
      },
      "source": [
        "<a href=\"https://colab.research.google.com/github/oaboelfetouh/Intro_to_AI_GMC/blob/main/data_preprocessing.ipynb\" target=\"_parent\"><img src=\"https://colab.research.google.com/assets/colab-badge.svg\" alt=\"Open In Colab\"/></a>"
      ]
    },
    {
      "cell_type": "code",
      "execution_count": 1,
      "metadata": {
        "id": "fuxkYVVMMlG4"
      },
      "outputs": [],
      "source": [
        "## we proprocess data for ML "
      ]
    },
    {
      "cell_type": "code",
      "source": [],
      "metadata": {
        "id": "qd6NQo2nMpyD"
      },
      "execution_count": null,
      "outputs": []
    }
  ]
}